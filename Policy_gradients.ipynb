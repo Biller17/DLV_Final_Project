{
 "cells": [
  {
   "cell_type": "markdown",
   "metadata": {
    "colab_type": "text",
    "id": "6N7j1tkAOMWY"
   },
   "source": [
    "# LunarLander with Policy Gradient\n",
    "## Made by\n",
    "* Adrian Biller A01018940\n",
    "* Edgar Garcia A01021730\n",
    "* Jose Manuel Beauregard A01021716"
   ]
  },
  {
   "cell_type": "code",
   "execution_count": 0,
   "metadata": {
    "colab": {
     "base_uri": "https://localhost:8080/",
     "height": 34
    },
    "colab_type": "code",
    "id": "-CT_yIGGNs_V",
    "outputId": "33359aff-d366-4474-f5a2-258f7f471aff"
   },
   "outputs": [
    {
     "name": "stdout",
     "output_type": "stream",
     "text": [
      "Requirement already up-to-date: setuptools in /usr/local/lib/python3.6/dist-packages (41.0.1)\n"
     ]
    }
   ],
   "source": [
    "#remove \" > /dev/null 2>&1\" to see what is going on under the hood\n",
    "!pip install gym pyvirtualdisplay > /dev/null 2>&1\n",
    "!apt-get install -y xvfb python-opengl ffmpeg > /dev/null 2>&1\n",
    "!apt-get update > /dev/null 2>&1\n",
    "!apt-get install cmake > /dev/null 2>&1\n",
    "!pip install --upgrade setuptools 2>&1\n",
    "!pip install ez_setup > /dev/null 2>&1\n",
    "!pip install gym[atari] > /dev/null 2>&1\n",
    "!pip install gym[box2d] > /dev/null 2>&1"
   ]
  },
  {
   "cell_type": "code",
   "execution_count": 0,
   "metadata": {
    "colab": {},
    "colab_type": "code",
    "id": "L4LAiDebN_YE"
   },
   "outputs": [],
   "source": [
    "import gym\n",
    "from gym import logger as gymlogger\n",
    "from gym.wrappers import Monitor\n",
    "\n",
    "import matplotlib\n",
    "import matplotlib.pyplot as plt\n",
    "import itertools\n",
    "import cv2\n",
    "import numpy as np\n",
    "import random, math\n",
    "from keras import models, layers, optimizers\n",
    "\n",
    "from collections import deque\n",
    "\n",
    "import glob, io, base64\n",
    "\n",
    "from tensorflow import convert_to_tensor\n",
    "from IPython.display import HTML\n",
    "from IPython import display as ipythondisplay\n",
    "from pyvirtualdisplay import Display\n",
    "from sklearn.preprocessing import normalize\n",
    "gymlogger.set_level(40) #error only\n",
    "%matplotlib inline"
   ]
  },
  {
   "cell_type": "code",
   "execution_count": 0,
   "metadata": {
    "colab": {},
    "colab_type": "code",
    "id": "uxuYEwYGOwLT"
   },
   "outputs": [],
   "source": [
    "\"\"\"\n",
    "Utility functions to enable video recording of gym environment and displaying it\n",
    "To enable video, just do \"env = wrap_env(env)\"\"\n",
    "\"\"\"\n",
    "\n",
    "def show_video():\n",
    "  mp4list = glob.glob('video/*.mp4')\n",
    "  if len(mp4list) > 0:\n",
    "    mp4 = mp4list[0]\n",
    "    video = io.open(mp4, 'r+b').read()\n",
    "    encoded = base64.b64encode(video)\n",
    "    ipythondisplay.display(HTML(data='''<video alt=\"test\" autoplay \n",
    "                loop controls style=\"height: 400px;\">\n",
    "                <source src=\"data:video/mp4;base64,{0}\" type=\"video/mp4\" />\n",
    "             </video>'''.format(encoded.decode('ascii'))))\n",
    "  else: \n",
    "    print(\"Could not find video\")\n",
    "    \n",
    "\n",
    "def wrap_env(env):\n",
    "  env = Monitor(env, './video', force=True)\n",
    "  return env"
   ]
  },
  {
   "cell_type": "code",
   "execution_count": 0,
   "metadata": {
    "colab": {
     "base_uri": "https://localhost:8080/",
     "height": 54
    },
    "colab_type": "code",
    "id": "2wgluEHZOxkz",
    "outputId": "d9a2c266-3071-4e50-b9b9-e45d5a8b2d2c"
   },
   "outputs": [
    {
     "data": {
      "text/plain": [
       "<Display cmd_param=['Xvfb', '-br', '-nolisten', 'tcp', '-screen', '0', '1400x900x24', ':1001'] cmd=['Xvfb', '-br', '-nolisten', 'tcp', '-screen', '0', '1400x900x24', ':1001'] oserror=None return_code=None stdout=\"None\" stderr=\"None\" timeout_happened=False>"
      ]
     },
     "execution_count": 4,
     "metadata": {
      "tags": []
     },
     "output_type": "execute_result"
    }
   ],
   "source": [
    "display = Display(visible=0, size=(1400, 900))\n",
    "display.start()"
   ]
  },
  {
   "cell_type": "markdown",
   "metadata": {
    "colab_type": "text",
    "id": "Ad3qCUiKKrlF"
   },
   "source": [
    "In this project we will solve Lunar Lander v2 environment where the user must land a spaceship in a desiered area. For this the user can do 4 different actions and we will use 8 inputs that will help discretize the env.\n",
    "\n",
    "<hr>\n",
    "\n",
    "### Available Actions\n",
    "* Do nothing\n",
    "* Left engine\n",
    "* Main engine\n",
    "* Right engine\n",
    "\n",
    "### Inputs\n",
    "1. X Position\n",
    "* Y Position\n",
    "* X Velocity\n",
    "* Y Velocity\n",
    "* Angle\n",
    "* Angular Velocity\n",
    "* Left leg in contact with ground\n",
    "* Right leg in contact with ground\n",
    "\n",
    "<hr>\n",
    "\n",
    "### Rewards\n",
    "\n",
    "* Reward for moving from the top of the screen to landing pad and zero speed is about 100..140 points.\n",
    "* If lander moves away from landing pad it loses reward back. \n",
    "* Episode finishes if the lander crashes or comes to rest, receiving additional -100 or +100 points. \n",
    "* Each leg ground contact is +10. \n",
    "* Firing mainengine is -0.3 points each frame. (DOWN)\n",
    "* Firing side engine is -0.03 points each frame. (LEFT-RIGHT)\n",
    "* Solved is 200 points."
   ]
  },
  {
   "cell_type": "code",
   "execution_count": 0,
   "metadata": {
    "colab": {
     "base_uri": "https://localhost:8080/",
     "height": 34
    },
    "colab_type": "code",
    "id": "hg-CkXh5Oz8N",
    "outputId": "94487817-d02c-46ec-a7b9-096f328a4867"
   },
   "outputs": [
    {
     "name": "stdout",
     "output_type": "stream",
     "text": [
      "8 4\n"
     ]
    }
   ],
   "source": [
    "# Loads the cartpole environment\n",
    "env = wrap_env(gym.make('LunarLander-v2'))\n",
    "\n",
    "state_size   = env.observation_space.shape[0]\n",
    "action_size = env.action_space.n\n",
    "\n",
    "n_episodes   = 10100\n",
    "\n",
    "print(state_size, action_size)"
   ]
  },
  {
   "cell_type": "code",
   "execution_count": 0,
   "metadata": {
    "colab": {
     "base_uri": "https://localhost:8080/",
     "height": 421
    },
    "colab_type": "code",
    "id": "KcPnb6DwPFxZ",
    "outputId": "c21f1213-93d5-49b3-81c1-5d067cd0899c"
   },
   "outputs": [
    {
     "data": {
      "text/html": [
       "<video alt=\"test\" autoplay \n",
       "                loop controls style=\"height: 400px;\">\n",
       "                <source src=\"data:video/mp4;base64,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\" type=\"video/mp4\" />\n",
       "             </video>"
      ],
      "text/plain": [
       "<IPython.core.display.HTML object>"
      ]
     },
     "metadata": {
      "tags": []
     },
     "output_type": "display_data"
    }
   ],
   "source": [
    "env = wrap_env(gym.make('LunarLander-v2'))\n",
    "observation = env.reset()\n",
    "\n",
    "while True:\n",
    "  \n",
    "    env.render()\n",
    "    \n",
    "    #your agent goes here\n",
    "    action = np.random.choice([0,1,2,3])\n",
    "    #action = env.action_space.sample() \n",
    "    \n",
    "    observation, reward, done, info = env.step(action) \n",
    "\n",
    "    if done: \n",
    "      break;\n",
    "            \n",
    "env.close()\n",
    "show_video()"
   ]
  },
  {
   "cell_type": "code",
   "execution_count": 0,
   "metadata": {
    "colab": {},
    "colab_type": "code",
    "id": "ZB9VcC_uEpyt"
   },
   "outputs": [],
   "source": [
    "def discount_rewards(reward, gamma):\n",
    "  r = np.array(reward)\n",
    "  discounted_r = np.zeros_like(r)\n",
    "  running_add = 0\n",
    "    \n",
    "  for t in reversed(range(0, r.size)):\n",
    "    if r[t] != 0:\n",
    "      running_add = 0\n",
    "    # the point here is to use Horner's method to compute those rewards efficiently\n",
    "    running_add = running_add * gamma + r[t]\n",
    "    discounted_r[t] = running_add\n",
    "  # normalizing the result\n",
    "  discounted_r -= np.mean(discounted_r) \n",
    "  # idem\n",
    "  discounted_r /= np.std(discounted_r) \n",
    "  \n",
    "  return discounted_r"
   ]
  },
  {
   "cell_type": "code",
   "execution_count": 0,
   "metadata": {
    "colab": {},
    "colab_type": "code",
    "id": "6-fAtU4kPJbi"
   },
   "outputs": [],
   "source": [
    "class DQNAgent:\n",
    "    def __init__(self, state_size, action_size, gamma = 0.99, alpha = 0.001):\n",
    "        self.state_size   = state_size\n",
    "        self.action_size  = action_size\n",
    "        self.gamma        = gamma\n",
    "        self.alpha        = alpha\n",
    "        self.model        = self._build_model()\n",
    "    \n",
    "    def _build_model(self):\n",
    "        model = models.Sequential()\n",
    "        \n",
    "        model.add(layers.Dense(8,\n",
    "                               activation='relu',\n",
    "                               input_dim=self.state_size, \n",
    "                               kernel_initializer='glorot_uniform'))\n",
    "        model.add(layers.Dense(10, \n",
    "                               activation='sigmoid', \n",
    "                               kernel_initializer='RandomNormal'))\n",
    "        model.add(layers.Dense(10, activation='sigmoid'))\n",
    "        model.add(layers.Dense(4,   activation='softmax'))\n",
    "        \n",
    "        model.compile(loss= 'binary_crossentropy', \n",
    "                                 optimizer= optimizers.Adam(lr=self.alpha),\n",
    "                                 metrics= ['accuracy'])\n",
    "        return model\n",
    "    \n",
    "    def train(self, states, labels, rewards):\n",
    "        # sample_weight: Optional Numpy array of weights for the training samples, \n",
    "        # used for weighting the loss function (during training only).\n",
    "        self.model.fit(x = states, \n",
    "                             y = labels, \n",
    "                             verbose = 0,\n",
    "                             steps_per_epoch = states.shape[1],\n",
    "                             sample_weight = discount_rewards(rewards, self.gamma) )\n",
    "\n",
    "    def load(self, name):\n",
    "        self.model.load_weights(name)\n",
    "        \n",
    "    def save(self, name):\n",
    "        self.model.save_weights(name)"
   ]
  },
  {
   "cell_type": "code",
   "execution_count": 0,
   "metadata": {
    "colab": {},
    "colab_type": "code",
    "id": "TGMtRGjNvUsc"
   },
   "outputs": [],
   "source": [
    "def oneHotEncoding(action):\n",
    "  '''\n",
    "    * Do nothing\n",
    "    * Left engine\n",
    "    * Main engine\n",
    "    * Right engine\n",
    "  '''\n",
    "  one_hot = np.zeros(4)\n",
    "  one_hot[action] = 1\n",
    "  return one_hot"
   ]
  },
  {
   "cell_type": "code",
   "execution_count": 0,
   "metadata": {
    "colab": {},
    "colab_type": "code",
    "id": "6d_IFc7ZAeo6"
   },
   "outputs": [],
   "source": [
    "\"\"\"\n",
    "  inputs Indexes\n",
    "    0: X Position\n",
    "    1: Y Position\n",
    "    2: X Velocity\n",
    "    3: Y Velocity\n",
    "    4: Angle\n",
    "    5: Angular Velocity\n",
    "    6: Left leg in contact with ground\n",
    "    7: Right leg in contact with ground\n",
    "\"\"\"\n",
    "# normalize is a function from sklearn\n",
    "preprocessInput = lambda inputs : normalize(inputs[:, np.newaxis], axis= 0).ravel()"
   ]
  },
  {
   "cell_type": "code",
   "execution_count": 0,
   "metadata": {
    "colab": {},
    "colab_type": "code",
    "id": "bPEUkwuifqSo"
   },
   "outputs": [],
   "source": [
    "# convert_to_tensor is a function from tensorflow\n",
    "to_tensor = lambda tensor : convert_to_tensor(np.array(tensor), dtype= tf.float32)"
   ]
  },
  {
   "cell_type": "code",
   "execution_count": 0,
   "metadata": {
    "colab": {
     "base_uri": "https://localhost:8080/",
     "height": 2128
    },
    "colab_type": "code",
    "id": "Q6o17amxPPqD",
    "outputId": "ded3bf15-c467-4d73-a777-33c23815fa0a"
   },
   "outputs": [
    {
     "name": "stdout",
     "output_type": "stream",
     "text": [
      "WARNING:tensorflow:From /usr/local/lib/python3.6/dist-packages/tensorflow/python/framework/op_def_library.py:263: colocate_with (from tensorflow.python.framework.ops) is deprecated and will be removed in a future version.\n",
      "Instructions for updating:\n",
      "Colocations handled automatically by placer.\n",
      "_________________________________________________________________\n",
      "Layer (type)                 Output Shape              Param #   \n",
      "=================================================================\n",
      "dense_1 (Dense)              (None, 8)                 72        \n",
      "_________________________________________________________________\n",
      "dense_2 (Dense)              (None, 10)                90        \n",
      "_________________________________________________________________\n",
      "dense_3 (Dense)              (None, 10)                110       \n",
      "_________________________________________________________________\n",
      "dense_4 (Dense)              (None, 4)                 44        \n",
      "=================================================================\n",
      "Total params: 316\n",
      "Trainable params: 316\n",
      "Non-trainable params: 0\n",
      "_________________________________________________________________\n",
      "Episode: 0 Reward -868.9390001580161\n",
      "WARNING:tensorflow:From /usr/local/lib/python3.6/dist-packages/tensorflow/python/ops/math_ops.py:3066: to_int32 (from tensorflow.python.ops.math_ops) is deprecated and will be removed in a future version.\n",
      "Instructions for updating:\n",
      "Use tf.cast instead.\n",
      "Episode: 100 Reward -722.3603811828166\n",
      "Episode: 200 Reward -600.5056301648167\n",
      "Episode: 300 Reward -133.41096582087303\n",
      "Episode: 400 Reward -111.34244796855643\n",
      "Episode: 500 Reward -194.37249624531262\n",
      "Episode: 600 Reward -123.18821254427975\n",
      "Episode: 700 Reward -686.4780671422083\n",
      "Episode: 800 Reward -614.8967100757369\n",
      "Episode: 900 Reward -468.7052568803544\n",
      "Episode: 1000 Reward -566.6492475049145\n",
      "Episode: 1100 Reward -446.1207818286418\n",
      "Episode: 1200 Reward -199.88130067129447\n",
      "Episode: 1300 Reward -117.15425738035043\n",
      "Episode: 1400 Reward -247.3647385319493\n",
      "Episode: 1500 Reward -89.73668762655406\n",
      "Episode: 1600 Reward -209.57049371813804\n",
      "Episode: 1700 Reward -435.5176791062288\n",
      "Episode: 1800 Reward -574.0260433771244\n",
      "Episode: 1900 Reward -787.4651177635401\n",
      "Episode: 2000 Reward -495.75930169591965\n",
      "Episode: 2100 Reward -729.6514857857157\n",
      "Episode: 2200 Reward -595.5165964512876\n",
      "Episode: 2300 Reward -586.5116381019213\n",
      "Episode: 2400 Reward -448.1271735062157\n",
      "Episode: 2500 Reward -818.0279136923494\n",
      "Episode: 2600 Reward -406.06674751156146\n",
      "Episode: 2700 Reward -699.5781084372495\n",
      "Episode: 2800 Reward -506.198363950729\n",
      "Episode: 2900 Reward -665.5507770960718\n",
      "Episode: 3000 Reward -622.7321423614524\n",
      "Episode: 3100 Reward -473.1347016663357\n",
      "Episode: 3200 Reward -749.9836930461903\n",
      "Episode: 3300 Reward -485.0245779292175\n",
      "Episode: 3400 Reward -746.663977598227\n",
      "Episode: 3500 Reward -559.4201096168456\n",
      "Episode: 3600 Reward -180.08711149188068\n",
      "Episode: 3700 Reward -168.24047902398982\n",
      "Episode: 3800 Reward -171.7017507335566\n",
      "Episode: 3900 Reward -172.15937869997708\n",
      "Episode: 4000 Reward -84.59829297818112\n",
      "Episode: 4100 Reward -79.26721045440857\n",
      "Episode: 4200 Reward -64.68710048803007\n",
      "Episode: 4300 Reward -85.92182079815505\n",
      "Episode: 4400 Reward -74.85378079650357\n",
      "Episode: 4500 Reward -77.0685840457832\n",
      "Episode: 4600 Reward -50.56137162491451\n",
      "Episode: 4700 Reward -75.67891645836733\n",
      "Episode: 4800 Reward -49.11539576328859\n",
      "Episode: 4900 Reward -134.1357448699066\n",
      "Episode: 5000 Reward -136.11641068410347\n",
      "Episode: 5100 Reward -108.81541748779722\n",
      "Episode: 5200 Reward -59.737517078967215\n",
      "Episode: 5300 Reward -408.4970536003332\n",
      "Episode: 5400 Reward -59.6058541745017\n",
      "Episode: 5500 Reward -100.20960153130706\n",
      "Episode: 5600 Reward -146.33649843684157\n",
      "Episode: 5700 Reward -62.51900569059297\n",
      "Episode: 5800 Reward -115.1576816916797\n",
      "Episode: 5900 Reward -48.2077694586071\n",
      "Episode: 6000 Reward -31.450573793836725\n",
      "Episode: 6100 Reward -70.23889732151659\n",
      "Episode: 6200 Reward -80.24366970844261\n",
      "Episode: 6300 Reward -52.35737508365834\n",
      "Episode: 6400 Reward -30.196024305651193\n",
      "Episode: 6500 Reward -82.27457895618241\n",
      "Episode: 6600 Reward -65.92451063064144\n",
      "Episode: 6700 Reward -150.4556681408494\n",
      "Episode: 6800 Reward -908.6862845057362\n",
      "Episode: 6900 Reward -337.0441577993405\n",
      "Episode: 7000 Reward -719.6637451788762\n",
      "Episode: 7100 Reward -695.5585767160201\n",
      "Episode: 7200 Reward -577.1772520707398\n",
      "Episode: 7300 Reward -449.4746166899696\n",
      "Episode: 7400 Reward -497.4122996475712\n",
      "Episode: 7500 Reward -617.8804979055612\n",
      "Episode: 7600 Reward -1191.2055482719163\n",
      "Episode: 7700 Reward -750.0082662962961\n",
      "Episode: 7800 Reward -456.79556399660817\n",
      "Episode: 7900 Reward -520.3064024060891\n",
      "Episode: 8000 Reward -336.0812097879249\n",
      "Episode: 8100 Reward -623.232127523726\n",
      "Episode: 8200 Reward -737.6863540169046\n",
      "Episode: 8300 Reward -312.76648700616965\n",
      "Episode: 8400 Reward -836.9692001349664\n",
      "Episode: 8500 Reward -950.0782991802271\n",
      "Episode: 8600 Reward -665.4087558223194\n",
      "Episode: 8700 Reward -62.31910380367334\n",
      "Episode: 8800 Reward -87.71305616916321\n",
      "Episode: 8900 Reward -138.58736702403735\n",
      "Episode: 9000 Reward -52.41496345492059\n",
      "Episode: 9100 Reward -89.16740962822922\n",
      "Episode: 9200 Reward -81.97020536536382\n",
      "Episode: 9300 Reward -15.841941002882024\n",
      "Episode: 9400 Reward -70.41198868241163\n",
      "Episode: 9500 Reward -106.78591588581597\n",
      "Episode: 9600 Reward -112.72156934751399\n",
      "Episode: 9700 Reward -49.46215087530119\n",
      "Episode: 9800 Reward 0.28364575381290535\n",
      "Episode: 9900 Reward -6.62376562828311\n",
      "Episode: 10000 Reward -0.0690591991910594\n",
      "Episode: 10100 Reward -72.82182412763757\n"
     ]
    }
   ],
   "source": [
    "env = wrap_env(gym.make('LunarLander-v2'))\n",
    "running_reward = None\n",
    "\n",
    "agent = DQNAgent(state_size, action_size, 0.91, 0.002)\n",
    "agent.model.summary()\n",
    "\n",
    "'''\n",
    "Action mapping\n",
    "  [\n",
    "    going left: 0\n",
    "    going right: 1\n",
    "    rotate left: 2\n",
    "    rotate right: 3\n",
    "  ]\n",
    "'''\n",
    "actionsMap = {\n",
    "    0: [1], \n",
    "    1: [3], \n",
    "    2: [1,2], \n",
    "    3: [2,3]\n",
    "}\n",
    "\n",
    "\n",
    "try:\n",
    "    for e in range(n_episodes):\n",
    "        \n",
    "        states_train, labels_train, rewards = [], [], []\n",
    "        total_reward = 0\n",
    "        \n",
    "        next_state = env.reset()\n",
    "        prev_state = None\n",
    "        \n",
    "        done = False\n",
    "        \n",
    "        while not done:\n",
    "            \n",
    "            #env.render()\n",
    "            current_state = np.copy(preprocessInput(next_state))\n",
    "            \n",
    "            delta_state = current_state - prev_state if prev_state is not None else np.zeros(8)\n",
    "            \n",
    "            prev_state =  np.copy(current_state)\n",
    "            \n",
    "            current_state = np.reshape(current_state, (1,8))\n",
    "\n",
    "            prediction = agent.model.predict(current_state)\n",
    "            \n",
    "            action = random.choice(actionsMap[np.argmax(prediction)])\n",
    "                                                      \n",
    "            label = oneHotEncoding(action)\n",
    "                             \n",
    "            states_train.append(delta_state)\n",
    "            labels_train.append(label)\n",
    "            \n",
    "            next_state, reward, done, _ = env.step(action)\n",
    "            rewards.append(reward)\n",
    "            total_reward += reward\n",
    "\n",
    "                                          \n",
    "        if e % 100 == 0:\n",
    "          running_reward = total_reward if running_reward is None else running_reward * 0.99 + total_reward * 0.01\n",
    "          print('Episode: {} Reward {}'.format(e, total_reward))\n",
    "          agent.save('model_weights_{}_{}_.hdf5'.format(e, running_reward))\n",
    "        \n",
    "\n",
    "        agent.train(to_tensor(states_train), \n",
    "                    to_tensor(labels_train),\n",
    "                    rewards)\n",
    "\n",
    "        \n",
    "finally:\n",
    "    env.close()"
   ]
  },
  {
   "cell_type": "code",
   "execution_count": 0,
   "metadata": {
    "colab": {
     "base_uri": "https://localhost:8080/",
     "height": 421
    },
    "colab_type": "code",
    "id": "J4p3CElfPSOj",
    "outputId": "a92a9472-bc66-4bab-cb95-05402b0b02b4"
   },
   "outputs": [
    {
     "data": {
      "text/html": [
       "<video alt=\"test\" autoplay \n",
       "                loop controls style=\"height: 400px;\">\n",
       "                <source src=\"data:video/mp4;base64,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\" type=\"video/mp4\" />\n",
       "             </video>"
      ],
      "text/plain": [
       "<IPython.core.display.HTML object>"
      ]
     },
     "metadata": {
      "tags": []
     },
     "output_type": "display_data"
    }
   ],
   "source": [
    "env = wrap_env(gym.make('LunarLander-v2'))\n",
    "agent = DQNAgent(state_size, action_size)\n",
    "# agent.load('model_weights_9800_0.28.hdf5')\n",
    "agent.load('model_weights_6000_-613.3778618601141_.hdf5')\n",
    "actionsMap = {\n",
    "    0: [1], \n",
    "    1: [3], \n",
    "    2: [1,2], \n",
    "    3: [2,3]\n",
    "}\n",
    "\n",
    "try:\n",
    "      states_train, labels_train, rewards = [], [], []\n",
    "      total_reward = 0\n",
    "\n",
    "      next_state = env.reset()\n",
    "      prev_state = None\n",
    "\n",
    "      done = False\n",
    "\n",
    "      while not done:\n",
    "\n",
    "          env.render()\n",
    "          current_state = np.copy(preprocessInput(next_state))\n",
    "          current_state = np.reshape(current_state, (1,8))\n",
    "          # Takes a random action from the action space of the environment\n",
    "          prediction = agent.model.predict(current_state)\n",
    "          action = random.choice(actionsMap[np.argmax(prediction)])\n",
    "\n",
    "          next_state, reward, done, info = env.step(action)\n",
    "\n",
    "          total_reward += reward\n",
    "\n",
    "          next_state, reward, done, _ = env.step(action)\n",
    "          rewards.append(reward)\n",
    "          total_reward += reward\n",
    "        \n",
    "finally:\n",
    "    env.close()       \n",
    "    show_video()"
   ]
  },
  {
   "cell_type": "markdown",
   "metadata": {
    "colab_type": "text",
    "id": "cbF4qdcWEOvw"
   },
   "source": [
    "## Final Results\n",
    "Here we will present the evolution of our model.\n",
    "\n",
    "We trained our model for **11,000** episodes and it took around 13-14 hours in total to train. Given how the rewards are treated in this game, we can give ourselfs an idea of what its learning in each 1000's iteration."
   ]
  },
  {
   "cell_type": "markdown",
   "metadata": {
    "colab_type": "text",
    "id": "ms7o3BirT5G2"
   },
   "source": [
    "### Iteration 2000\n",
    "* Reward: -495.759"
   ]
  },
  {
   "cell_type": "code",
   "execution_count": 0,
   "metadata": {
    "colab": {
     "base_uri": "https://localhost:8080/",
     "height": 448
    },
    "colab_type": "code",
    "id": "g0kmCOzxPgYk",
    "outputId": "517ca9d4-ef8d-4500-aee5-8881906209d1"
   },
   "outputs": [
    {
     "data": {
      "text/html": [
       "\n",
       "  <iframe src=\"https://player.vimeo.com/video/335758641\" width=\"640\" height=\"427\" frameborder=\"0\" allow=\"autoplay; fullscreen\" allowfullscreen></iframe>\n"
      ],
      "text/plain": [
       "<IPython.core.display.HTML object>"
      ]
     },
     "execution_count": 5,
     "metadata": {
      "tags": []
     },
     "output_type": "execute_result"
    }
   ],
   "source": [
    "HTML(\"\"\"\n",
    "  <iframe src=\"https://player.vimeo.com/video/335758641\" width=\"640\" height=\"427\" frameborder=\"0\" allow=\"autoplay; fullscreen\" allowfullscreen></iframe>\n",
    "\"\"\")"
   ]
  },
  {
   "cell_type": "markdown",
   "metadata": {
    "colab_type": "text",
    "id": "VvT-xL1JUY6N"
   },
   "source": [
    "### Iteration 4000\n",
    "* Reward: -84.598"
   ]
  },
  {
   "cell_type": "code",
   "execution_count": 0,
   "metadata": {
    "colab": {
     "base_uri": "https://localhost:8080/",
     "height": 448
    },
    "colab_type": "code",
    "id": "Z8Q-ph3pILKy",
    "outputId": "bb38c0ea-c4a3-4e0f-c2b9-b8e83eb7d740"
   },
   "outputs": [
    {
     "data": {
      "text/html": [
       "\"\n",
       "  <iframe src=\"https://player.vimeo.com/video/335715611\" width=\"640\" height=\"427\" frameborder=\"0\" allow=\"autoplay; fullscreen\" allowfullscreen></iframe>\n"
      ],
      "text/plain": [
       "<IPython.core.display.HTML object>"
      ]
     },
     "execution_count": 34,
     "metadata": {
      "tags": []
     },
     "output_type": "execute_result"
    }
   ],
   "source": [
    "HTML(\"\"\"\"\n",
    "  <iframe src=\"https://player.vimeo.com/video/335715611\" width=\"640\" height=\"427\" frameborder=\"0\" allow=\"autoplay; fullscreen\" allowfullscreen></iframe>\n",
    "\"\"\")"
   ]
  },
  {
   "cell_type": "markdown",
   "metadata": {
    "colab_type": "text",
    "id": "kcjwVK46Unl3"
   },
   "source": [
    "### Iteration 5000\n",
    "* Reward: -136.116"
   ]
  },
  {
   "cell_type": "code",
   "execution_count": 0,
   "metadata": {
    "colab": {
     "base_uri": "https://localhost:8080/",
     "height": 448
    },
    "colab_type": "code",
    "id": "e2T-XK3kGevJ",
    "outputId": "979f8020-e93d-4a9f-a2e6-4bc51d3095ad"
   },
   "outputs": [
    {
     "data": {
      "text/html": [
       "\n",
       "  <iframe src=\"https://player.vimeo.com/video/335715616\" width=\"640\" height=\"427\" frameborder=\"0\" allow=\"autoplay; fullscreen\" allowfullscreen></iframe>\n"
      ],
      "text/plain": [
       "<IPython.core.display.HTML object>"
      ]
     },
     "execution_count": 33,
     "metadata": {
      "tags": []
     },
     "output_type": "execute_result"
    }
   ],
   "source": [
    "HTML(\"\"\"\n",
    "  <iframe src=\"https://player.vimeo.com/video/335715616\" width=\"640\" height=\"427\" frameborder=\"0\" allow=\"autoplay; fullscreen\" allowfullscreen></iframe>\n",
    "\"\"\")"
   ]
  },
  {
   "cell_type": "markdown",
   "metadata": {
    "colab_type": "text",
    "id": "d5oXyocRU7pA"
   },
   "source": [
    "### Iteration 6000\n",
    "* Reward: -31.450"
   ]
  },
  {
   "cell_type": "code",
   "execution_count": 0,
   "metadata": {
    "colab": {
     "base_uri": "https://localhost:8080/",
     "height": 448
    },
    "colab_type": "code",
    "id": "j2LpGqQdVC3a",
    "outputId": "715a0f93-8d66-4d4d-d215-8805cd2af2b3"
   },
   "outputs": [
    {
     "data": {
      "text/html": [
       "\n",
       "  <iframe src=\"https://player.vimeo.com/video/335715621\" width=\"640\" height=\"427\" frameborder=\"0\" allow=\"autoplay; fullscreen\" allowfullscreen></iframe>\n"
      ],
      "text/plain": [
       "<IPython.core.display.HTML object>"
      ]
     },
     "execution_count": 35,
     "metadata": {
      "tags": []
     },
     "output_type": "execute_result"
    }
   ],
   "source": [
    "HTML(\"\"\"\n",
    "  <iframe src=\"https://player.vimeo.com/video/335715621\" width=\"640\" height=\"427\" frameborder=\"0\" allow=\"autoplay; fullscreen\" allowfullscreen></iframe>\n",
    "\"\"\")"
   ]
  },
  {
   "cell_type": "markdown",
   "metadata": {
    "colab_type": "text",
    "id": "Smp9JTOAVOZx"
   },
   "source": [
    "### Iteration 9000\n",
    "* Reward: -52.414"
   ]
  },
  {
   "cell_type": "code",
   "execution_count": 0,
   "metadata": {
    "colab": {
     "base_uri": "https://localhost:8080/",
     "height": 448
    },
    "colab_type": "code",
    "id": "_GxTL1vXVamV",
    "outputId": "3a6d25cd-671d-4968-b9f6-7590f2c90f00"
   },
   "outputs": [
    {
     "data": {
      "text/html": [
       "\n",
       "  <iframe src=\"https://player.vimeo.com/video/335715627\" width=\"640\" height=\"427\" frameborder=\"0\" allow=\"autoplay; fullscreen\" allowfullscreen></iframe>\n"
      ],
      "text/plain": [
       "<IPython.core.display.HTML object>"
      ]
     },
     "execution_count": 36,
     "metadata": {
      "tags": []
     },
     "output_type": "execute_result"
    }
   ],
   "source": [
    "HTML(\"\"\"\n",
    "  <iframe src=\"https://player.vimeo.com/video/335715627\" width=\"640\" height=\"427\" frameborder=\"0\" allow=\"autoplay; fullscreen\" allowfullscreen></iframe>\n",
    "\"\"\")"
   ]
  },
  {
   "cell_type": "markdown",
   "metadata": {
    "colab_type": "text",
    "id": "CLl7M3fXVpMx"
   },
   "source": [
    "### Best Iteration\n",
    "* Episode 9800\n",
    "* Reward: 0.2836\n",
    "* Best reward\n",
    "* This video was made loading the weights and using model.predict"
   ]
  },
  {
   "cell_type": "code",
   "execution_count": 0,
   "metadata": {
    "colab": {
     "base_uri": "https://localhost:8080/",
     "height": 448
    },
    "colab_type": "code",
    "id": "W5OhxLi5aACY",
    "outputId": "49f349b9-0343-4d4e-a6a9-50f5cfe86c7d"
   },
   "outputs": [
    {
     "data": {
      "text/html": [
       "\n",
       "  <iframe src=\"https://player.vimeo.com/video/335722271\" width=\"640\" height=\"427\" frameborder=\"0\" allow=\"autoplay; fullscreen\" allowfullscreen></iframe>\n"
      ],
      "text/plain": [
       "<IPython.core.display.HTML object>"
      ]
     },
     "execution_count": 37,
     "metadata": {
      "tags": []
     },
     "output_type": "execute_result"
    }
   ],
   "source": [
    "HTML(\"\"\"\n",
    "  <iframe src=\"https://player.vimeo.com/video/335722271\" width=\"640\" height=\"427\" frameborder=\"0\" allow=\"autoplay; fullscreen\" allowfullscreen></iframe>\n",
    "\"\"\")"
   ]
  }
 ],
 "metadata": {
  "colab": {
   "collapsed_sections": [],
   "name": "Pepe's copy of Policy_gradients.ipynb",
   "provenance": [],
   "version": "0.3.2"
  },
  "kernelspec": {
   "display_name": "Python 3",
   "language": "python",
   "name": "python3"
  },
  "language_info": {
   "codemirror_mode": {
    "name": "ipython",
    "version": 3
   },
   "file_extension": ".py",
   "mimetype": "text/x-python",
   "name": "python",
   "nbconvert_exporter": "python",
   "pygments_lexer": "ipython3",
   "version": "3.7.2"
  }
 },
 "nbformat": 4,
 "nbformat_minor": 1
}
